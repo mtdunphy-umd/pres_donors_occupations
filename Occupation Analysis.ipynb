{
 "cells": [
  {
   "cell_type": "markdown",
   "metadata": {},
   "source": [
    "**<center><font size=\"25\"> Occupations of Presidential Donors </font></center>**\n",
    "\n",
    "**<center> By: Michael Dunphy </center>**\n",
    "**<center> September 2020 </center>**"
   ]
  },
  {
   "cell_type": "markdown",
   "metadata": {},
   "source": [
    "<figure>\n",
    "<img src=\"https://pbs.twimg.com/media/EhNXxpAXYAkOUYX?format=jpg&name=large\" width=\"800\" style =\"float:center;\">\n",
    "</figure>"
   ]
  },
  {
   "cell_type": "markdown",
   "metadata": {},
   "source": [
    "## Introduction\n",
    "\n",
    "An analysis that looks at the occupations of presidential donors for each party candidate from 1992 to 2016.\n",
    "\n",
    "Visual can be found here: https://public.tableau.com/profile/michael.dunphy8764#!/vizhome/PresidentialDonorsfrom1992to2016/Occupation\n",
    "\n",
    "Data Source:  https://www.fec.gov\n",
    "\n",
    "Visual also makes use of SOC classification system: https://www.bls.gov/soc/2018/home.htm\n",
    "\n",
    "Below is the code used to collect and modify the data to produce the Tableau visual."
   ]
  },
  {
   "cell_type": "markdown",
   "metadata": {},
   "source": [
    "## Code\n",
    "\n",
    "The program makes use of:\n",
    "* [Pandas](https://pandas.pydata.org/docs/)"
   ]
  },
  {
   "cell_type": "code",
   "execution_count": 1,
   "metadata": {},
   "outputs": [],
   "source": [
    "import pandas as pd\n",
    "import warnings\n",
    "warnings.filterwarnings(\"ignore\")"
   ]
  },
  {
   "cell_type": "code",
   "execution_count": 2,
   "metadata": {},
   "outputs": [
    {
     "data": {
      "text/html": [
       "<div>\n",
       "<style scoped>\n",
       "    .dataframe tbody tr th:only-of-type {\n",
       "        vertical-align: middle;\n",
       "    }\n",
       "\n",
       "    .dataframe tbody tr th {\n",
       "        vertical-align: top;\n",
       "    }\n",
       "\n",
       "    .dataframe thead th {\n",
       "        text-align: right;\n",
       "    }\n",
       "</style>\n",
       "<table border=\"1\" class=\"dataframe\">\n",
       "  <thead>\n",
       "    <tr style=\"text-align: right;\">\n",
       "      <th></th>\n",
       "      <th>soccode</th>\n",
       "      <th>soctitle</th>\n",
       "      <th>occupation</th>\n",
       "    </tr>\n",
       "  </thead>\n",
       "  <tbody>\n",
       "    <tr>\n",
       "      <th>0</th>\n",
       "      <td>11-1011</td>\n",
       "      <td>Chief executives</td>\n",
       "      <td>CEO</td>\n",
       "    </tr>\n",
       "    <tr>\n",
       "      <th>1</th>\n",
       "      <td>11-1011</td>\n",
       "      <td>Chief executives</td>\n",
       "      <td>EXECUTIVE DIRECTOR</td>\n",
       "    </tr>\n",
       "    <tr>\n",
       "      <th>2</th>\n",
       "      <td>11-1011</td>\n",
       "      <td>Chief executives</td>\n",
       "      <td>PRESIDENT</td>\n",
       "    </tr>\n",
       "    <tr>\n",
       "      <th>3</th>\n",
       "      <td>11-1011</td>\n",
       "      <td>Chief executives</td>\n",
       "      <td>VP</td>\n",
       "    </tr>\n",
       "    <tr>\n",
       "      <th>4</th>\n",
       "      <td>11-1011</td>\n",
       "      <td>Chief executives</td>\n",
       "      <td>VICE PRESIDENT</td>\n",
       "    </tr>\n",
       "  </tbody>\n",
       "</table>\n",
       "</div>"
      ],
      "text/plain": [
       "   soccode          soctitle          occupation\n",
       "0  11-1011  Chief executives                 CEO\n",
       "1  11-1011  Chief executives  EXECUTIVE DIRECTOR\n",
       "2  11-1011  Chief executives           PRESIDENT\n",
       "3  11-1011  Chief executives                  VP\n",
       "4  11-1011  Chief executives      VICE PRESIDENT"
      ]
     },
     "execution_count": 2,
     "metadata": {},
     "output_type": "execute_result"
    }
   ],
   "source": [
    "# dataset used to classify occupations based on SOC\n",
    "occupations = pd.read_csv('https://raw.githubusercontent.com/dawaldron/data-visualizations/master/actblue_data_2020/titleocc_xw_final.csv')\n",
    "\n",
    "# drop unnecessary columns for this analysis\n",
    "occupations.drop(columns = ['freq', 'source', 'onetcode', 'onettitle'], inplace = True)\n",
    "\n",
    "# final occupations dataset used\n",
    "occupations.head()"
   ]
  },
  {
   "cell_type": "code",
   "execution_count": 3,
   "metadata": {},
   "outputs": [
    {
     "data": {
      "text/html": [
       "<div>\n",
       "<style scoped>\n",
       "    .dataframe tbody tr th:only-of-type {\n",
       "        vertical-align: middle;\n",
       "    }\n",
       "\n",
       "    .dataframe tbody tr th {\n",
       "        vertical-align: top;\n",
       "    }\n",
       "\n",
       "    .dataframe thead th {\n",
       "        text-align: right;\n",
       "    }\n",
       "</style>\n",
       "<table border=\"1\" class=\"dataframe\">\n",
       "  <thead>\n",
       "    <tr style=\"text-align: right;\">\n",
       "      <th></th>\n",
       "      <th>occgrpcd</th>\n",
       "      <th>occgrpnm2</th>\n",
       "      <th>N</th>\n",
       "    </tr>\n",
       "  </thead>\n",
       "  <tbody>\n",
       "    <tr>\n",
       "      <th>0</th>\n",
       "      <td>11</td>\n",
       "      <td>Management</td>\n",
       "      <td>1</td>\n",
       "    </tr>\n",
       "    <tr>\n",
       "      <th>1</th>\n",
       "      <td>13</td>\n",
       "      <td>Business and financial</td>\n",
       "      <td>1</td>\n",
       "    </tr>\n",
       "    <tr>\n",
       "      <th>2</th>\n",
       "      <td>15</td>\n",
       "      <td>Computer and mathematical</td>\n",
       "      <td>1</td>\n",
       "    </tr>\n",
       "    <tr>\n",
       "      <th>3</th>\n",
       "      <td>17</td>\n",
       "      <td>Architecture and engineering</td>\n",
       "      <td>1</td>\n",
       "    </tr>\n",
       "    <tr>\n",
       "      <th>4</th>\n",
       "      <td>19</td>\n",
       "      <td>Life, physical, social science</td>\n",
       "      <td>1</td>\n",
       "    </tr>\n",
       "  </tbody>\n",
       "</table>\n",
       "</div>"
      ],
      "text/plain": [
       "  occgrpcd                       occgrpnm2  N\n",
       "0       11                      Management  1\n",
       "1       13          Business and financial  1\n",
       "2       15       Computer and mathematical  1\n",
       "3       17    Architecture and engineering  1\n",
       "4       19  Life, physical, social science  1"
      ]
     },
     "execution_count": 3,
     "metadata": {},
     "output_type": "execute_result"
    }
   ],
   "source": [
    "# data set used to group occupations into SOC groupings\n",
    "occ_agg = pd.read_csv('https://raw.githubusercontent.com/dawaldron/data-visualizations/master/actblue_data_2020/occgrpnm.csv')\n",
    "\n",
    "# Only need the first two numbers of the SOC number to match subclasses of occupations\n",
    "occ_agg['occgrpcd'] = occ_agg['occgrpcd'].str[:2]\n",
    "\n",
    "# final occupational grouping dataset used\n",
    "occ_agg.head()"
   ]
  },
  {
   "cell_type": "code",
   "execution_count": 4,
   "metadata": {},
   "outputs": [],
   "source": [
    "# creates cleaned data tables\n",
    "def clean_data(data):\n",
    "    # take the needed columns from the original data that we need for this analysis\n",
    "    data_clean = data[['committee_id', 'report_type', 'contributor_name', \n",
    "                       'contributor_state', 'contributor_zip', 'contributor_occupation', 'contribution_receipt_date', \n",
    "                           'contribution_receipt_amount', 'contributor_aggregate_ytd']]\n",
    "\n",
    "    # convert some columns to numerical values\n",
    "    data_clean['contribution_receipt_amount'] = pd.to_numeric(data_clean['contribution_receipt_amount'])\n",
    "    data_clean['contributor_aggregate_ytd'] = pd.to_numeric(data_clean['contributor_aggregate_ytd'])\n",
    "\n",
    "    # clean zip code data to only having the 6 digits associated with each zip code\n",
    "    data_clean['contributor_zip'] = data_clean['contributor_zip'].astype(str).str[:5]\n",
    "    \n",
    "    return data_clean"
   ]
  },
  {
   "cell_type": "code",
   "execution_count": 5,
   "metadata": {},
   "outputs": [],
   "source": [
    "# creates a table showing the number and percentage of donors of that occupational group\n",
    "def occupation_tables(csv, name):\n",
    "    data = clean_data(pd.read_csv(csv))\n",
    "    \n",
    "    occ = pd.merge(data, occupations, left_on = 'contributor_occupation', right_on = 'occupation', how = 'inner')\n",
    "    # only need the first 2 digits of the soc code to match\n",
    "    occ['soccode_new'] = occ['soccode'].str[:2]\n",
    "    occ_main = pd.merge(occ, occ_agg, left_on = 'soccode_new', right_on = 'occgrpcd', how = 'inner')\n",
    "    occ_main.drop(columns = ['N', 'occgrpcd', 'soccode_new', 'occupation', 'soccode', 'soctitle'], inplace = True)\n",
    "\n",
    "    count_title = pd.DataFrame(occ_main['occgrpnm2'].value_counts()).reset_index()\n",
    "    count_title['%'] = count_title['occgrpnm2'] / count_title['occgrpnm2'].sum()\n",
    "    count_title['year'] = name[1]\n",
    "    count_title['candidate'] = name[0]\n",
    "    \n",
    "    data['candidate'] = name[0]\n",
    "    data['year'] = name[1]\n",
    "\n",
    "    return count_title, data\n"
   ]
  },
  {
   "cell_type": "code",
   "execution_count": 6,
   "metadata": {},
   "outputs": [],
   "source": [
    "# create data tables for each of the candidates to be combined for the visual\n",
    "dems = ['clinton_16', 'obama_12', 'obama_08', 'kerry_04', 'gore_00', 'clinton_96', 'clinton_92']\n",
    "reps = ['trump_16', 'romney_12', 'mccain_08', 'bush_04', 'bush_00', 'dole_96', 'bush_92']\n",
    "\n",
    "for x in dems:\n",
    "    name = x.split('_')\n",
    "    occ, data = occupation_tables(\"FEC DATA - DEM/\" + name[1] + \"/\" + x + \".csv\", name)\n",
    "    data.to_csv('FEC DATA - DEM/' + name[1] + '/' + x + '_cleaned.csv')\n",
    "    occ.to_csv('FEC DATA - DEM/' + name[1] + '/' + x + '_occupations.csv')\n",
    "    \n",
    "for x in reps:\n",
    "    name = x.split('_')\n",
    "    occ, data = occupation_tables(\"FEC DATA - REP/\" + name[1] + \"/\" + x + \".csv\", name)\n",
    "    data.to_csv('FEC DATA - REP/' + name[1] + '/' + x + '_cleaned.csv')\n",
    "    occ.to_csv('FEC DATA - REP/' + name[1] + '/' + x + '_occupations.csv')"
   ]
  },
  {
   "cell_type": "markdown",
   "metadata": {},
   "source": [
    "Additional cleaning and grouping of the data was done in other jupyter files which can be found in each data folder."
   ]
  },
  {
   "cell_type": "markdown",
   "metadata": {},
   "source": [
    "Anaylsis by: Michael Dunphy (he/him/his)\n",
    "\n",
    "[Twitter](https://twitter.com/mtdunphy)\n",
    "[Github](https://github.com/mtdunphy-umd)\n",
    "[Tableau](https://public.tableau.com/profile/michael.dunphy8764)"
   ]
  }
 ],
 "metadata": {
  "kernelspec": {
   "display_name": "Python 3",
   "language": "python",
   "name": "python3"
  },
  "language_info": {
   "codemirror_mode": {
    "name": "ipython",
    "version": 3
   },
   "file_extension": ".py",
   "mimetype": "text/x-python",
   "name": "python",
   "nbconvert_exporter": "python",
   "pygments_lexer": "ipython3",
   "version": "3.7.3"
  }
 },
 "nbformat": 4,
 "nbformat_minor": 2
}
