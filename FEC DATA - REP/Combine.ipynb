{
 "cells": [
  {
   "cell_type": "code",
   "execution_count": 1,
   "metadata": {},
   "outputs": [],
   "source": [
    "import pandas as pd"
   ]
  },
  {
   "cell_type": "code",
   "execution_count": 2,
   "metadata": {},
   "outputs": [],
   "source": [
    "def combine_occ(main, csv):\n",
    "    new = pd.read_csv(csv)\n",
    "    combined = main.merge(new, how= 'outer', on=['index', 'occgrpnm2', '%', 'year', 'candidate', 'Unnamed: 0'])\n",
    "    return combined\n",
    "\n",
    "def combine_cleaned(main, csv):\n",
    "    new = pd.read_csv(csv)\n",
    "    combined = main.append(new, ignore_index = True)\n",
    "    return combined"
   ]
  },
  {
   "cell_type": "code",
   "execution_count": 3,
   "metadata": {},
   "outputs": [
    {
     "name": "stderr",
     "output_type": "stream",
     "text": [
      "/opt/conda/lib/python3.7/site-packages/IPython/core/interactiveshell.py:3249: DtypeWarning: Columns (5) have mixed types. Specify dtype option on import or set low_memory=False.\n",
      "  if (await self.run_code(code, result,  async_=asy)):\n"
     ]
    }
   ],
   "source": [
    "reps = ['romney_12', 'mccain_08', 'bush_04', 'bush_00', 'dole_96', 'bush_92']\n",
    "\n",
    "main_occ = pd.read_csv(\"16/trump_16_occupations.csv\")\n",
    "\n",
    "main_data = pd.read_csv(\"16/trump_16_cleaned.csv\")\n",
    "\n",
    "for x in reps:\n",
    "    name = x.split('_')\n",
    "    main_occ = combine_occ(main_occ, (name[1] + \"/\" + x + \"_occupations.csv\"))\n",
    "    main_occ.to_csv('reps_combined_occupations.csv')\n",
    "    \n",
    "for x in reps:\n",
    "    name = x.split('_')\n",
    "    main_data = combine_cleaned(main_data, (name[1] + \"/\" + x + \"_cleaned.csv\"))\n",
    "    main_data.to_csv('reps_combined_cleaned.csv')"
   ]
  }
 ],
 "metadata": {
  "kernelspec": {
   "display_name": "Python 3",
   "language": "python",
   "name": "python3"
  },
  "language_info": {
   "codemirror_mode": {
    "name": "ipython",
    "version": 3
   },
   "file_extension": ".py",
   "mimetype": "text/x-python",
   "name": "python",
   "nbconvert_exporter": "python",
   "pygments_lexer": "ipython3",
   "version": "3.7.3"
  }
 },
 "nbformat": 4,
 "nbformat_minor": 2
}
